{
 "cells": [
  {
   "cell_type": "code",
   "execution_count": 1,
   "metadata": {},
   "outputs": [],
   "source": [
    "import datetime\n",
    "from mongoengine import connect\n",
    "from mongoengine import *"
   ]
  },
  {
   "cell_type": "code",
   "execution_count": 2,
   "metadata": {},
   "outputs": [
    {
     "data": {
      "text/plain": [
       "MongoClient(host=['localhost:27017'], document_class=dict, tz_aware=False, connect=True, read_preference=Primary())"
      ]
     },
     "execution_count": 2,
     "metadata": {},
     "output_type": "execute_result"
    }
   ],
   "source": [
    "connect('test')"
   ]
  },
  {
   "cell_type": "code",
   "execution_count": null,
   "metadata": {},
   "outputs": [],
   "source": [
    "class MyMessage(Document):  \n",
    "    \"\"\"\"\n",
    "    方案一: 站内信，每产生一条，插入一条.\n",
    "    \"\"\"\n",
    "    fromUserId = IntField()\n",
    "    toUserId = IntField()\n",
    "    status = IntField()     #0 未读  1 已读\n",
    "    title = StringField()\n",
    "    message = StringField()\n",
    "    isDelete = BooleanField(default=False) # remove 设置为True, 查询时，isDelete=False.\n",
    "    createAt = DateTimeField(default=datetime.datetime.utcnow)"
   ]
  },
  {
   "cell_type": "code",
   "execution_count": 33,
   "metadata": {},
   "outputs": [],
   "source": [
    "# 创建开发者\n",
    "dev_users = [500+i for i in range(1000000)]"
   ]
  },
  {
   "cell_type": "code",
   "execution_count": 34,
   "metadata": {},
   "outputs": [],
   "source": [
    "# 发送给dev_users, 管理员广播\n",
    "for i in dev_users:\n",
    "    msg_info = MyMessage(\n",
    "        fromUserId=0,\n",
    "        toUserId=i,\n",
    "        status=0,\n",
    "        title=\"管理员-祝贺成为{}开发者\".format(i),\n",
    "        message=\"欢迎加入APKPURE 开发者团队\",\n",
    "        isDelete=False,\n",
    "    )\n",
    "    msg_info.save()"
   ]
  },
  {
   "cell_type": "code",
   "execution_count": 25,
   "metadata": {},
   "outputs": [
    {
     "name": "stdout",
     "output_type": "stream",
     "text": [
      "from:0 to:508 status:0 title:管理员-祝贺成为508开发者\n"
     ]
    }
   ],
   "source": [
    "# 查看当前开发者的未读信息\n",
    "my_msgs = MyMessage.objects.filter(fromUserId=0, toUserId=508, status=0)\n",
    "for msg in my_msgs:\n",
    "    print(\"from:{} to:{} status:{} title:{}\".format(msg.fromUserId, msg.toUserId, msg.status, msg.title))\n",
    "    msg.status = 1\n",
    "    msg.save()"
   ]
  },
  {
   "cell_type": "code",
   "execution_count": 15,
   "metadata": {},
   "outputs": [],
   "source": [
    "?MyMessage.objects.filter"
   ]
  },
  {
   "cell_type": "code",
   "execution_count": null,
   "metadata": {},
   "outputs": [],
   "source": []
  }
 ],
 "metadata": {
  "kernelspec": {
   "display_name": "Python 3",
   "language": "python",
   "name": "python3"
  },
  "language_info": {
   "codemirror_mode": {
    "name": "ipython",
    "version": 3
   },
   "file_extension": ".py",
   "mimetype": "text/x-python",
   "name": "python",
   "nbconvert_exporter": "python",
   "pygments_lexer": "ipython3",
   "version": "3.5.0"
  }
 },
 "nbformat": 4,
 "nbformat_minor": 2
}
